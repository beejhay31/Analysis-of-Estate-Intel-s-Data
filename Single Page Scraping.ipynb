{
  "nbformat": 4,
  "nbformat_minor": 0,
  "metadata": {
    "colab": {
      "name": "Untitled0.ipynb",
      "provenance": []
    },
    "kernelspec": {
      "name": "python3",
      "display_name": "Python 3"
    },
    "language_info": {
      "name": "python"
    }
  },
  "cells": [
    {
      "cell_type": "code",
      "execution_count": 1,
      "metadata": {
        "id": "MhOhUCRDvU42"
      },
      "outputs": [],
      "source": [
        "import requests\n",
        "from bs4 import BeautifulSoup\n",
        "import pandas as pd"
      ]
    },
    {
      "cell_type": "code",
      "source": [
        "url = \"https://api.webscrapingapi.com/v1\"\n",
        "params = {\n",
        " \"api_key\": \"xxxxx\",\n",
        " \"url\": \"https://estateintel.com/app/projects/all\"\n",
        "}\n",
        "response = requests.request(\"GET\", url, params=params)\n"
      ],
      "metadata": {
        "id": "qJrnSNztvWDT"
      },
      "execution_count": 2,
      "outputs": []
    },
    {
      "cell_type": "code",
      "source": [
        "content = response.text"
      ],
      "metadata": {
        "id": "kWgqh58KvzuF"
      },
      "execution_count": 3,
      "outputs": []
    },
    {
      "cell_type": "code",
      "source": [
        "sectors = []\n",
        "names = []\n",
        "locations = []\n",
        "map_locations = []\n",
        "sizes = []\n",
        "statuses = []"
      ],
      "metadata": {
        "id": "1Cw5gdruv6jc"
      },
      "execution_count": 4,
      "outputs": []
    },
    {
      "cell_type": "code",
      "source": [
        "root = 'https://estateintel.com/app/projects'\n",
        "website = f'{root}/all'\n",
        "result = requests.get(website)\n",
        "content = result.text\n",
        "soup = BeautifulSoup(content, 'lxml')\n",
        "\n",
        "box = soup.find('article', class_='main-article')\n",
        "\n",
        "links = [link['href'] for link in box.find_all('a', href=True)]\n",
        "# print(links) # href doesn't consider root\n",
        "\n",
        "for link in links:\n",
        "    result = requests.get(f'{root}/{link}')\n",
        "    content = result.text\n",
        "    soup = BeautifulSoup(content, 'lxml')"
      ],
      "metadata": {
        "id": "erkaD8h--Waq"
      },
      "execution_count": null,
      "outputs": []
    },
    {
      "cell_type": "code",
      "source": [
        "soup = BeautifulSoup(content, features='html.parser')\n",
        "for element in soup.findAll('a', attrs={'class': 'no-underline'}):\n",
        "   #image = element.find('figure', attrs={'class': 'text-white'})\n",
        "   sector = element.find('div', attrs={'class': 'project-sector'})\n",
        "   name = element.find('h3', attrs={'class': 'project-name'})\n",
        "   location = element.find('p', attrs={'class': 'project-location'})\n",
        "   map_location = element.find('span', attrs={'class':'text-gray-1'})\n",
        "   size = element.find('span', attrs={'class': 'text-body'})\n",
        "   status = element.find('span', attrs={'class': 'text-purple-1'})\n",
        "   \n",
        "   if sector and sector.text:\n",
        "     sectors.append(sector.text)\n",
        "   else:\n",
        "     sectors.append('No display data')\n",
        "\n",
        "   if name and name.text:\n",
        "     names.append(name.text)\n",
        "   else:\n",
        "     names.append('No display data')\n",
        "     \n",
        "   if location and location.text:\n",
        "     locations.append(location.text)\n",
        "   else:\n",
        "     locations.append('No display data')\n",
        "\n",
        "   if map_location and map_location.text:\n",
        "     map_locations.append(map_location.text)\n",
        "   else:\n",
        "     map_locations.append('No display data')\n",
        "     \n",
        "   if size and size.text:\n",
        "     sizes.append(size.text)\n",
        "   else:\n",
        "     sizes.append('No display data')\n",
        "\n",
        "   if status and status.text:\n",
        "     statuses.append(status.text)\n",
        "   else:\n",
        "     statuses.append('No display data')\n"
      ],
      "metadata": {
        "id": "MMND1-POwqha"
      },
      "execution_count": 5,
      "outputs": []
    },
    {
      "cell_type": "code",
      "source": [
        "estate=pd.DataFrame({\"sector\":sectors, \"name\":names, \"location\":locations, \"map_location\":map_locations, \"size\":sizes, \"status\":statuses})\n",
        "estate.to_csv('estate_intel.csv', index=False, encoding='utf-8')"
      ],
      "metadata": {
        "id": "OuByQlnNBG05"
      },
      "execution_count": 8,
      "outputs": []
    },
    {
      "cell_type": "code",
      "source": [
        ""
      ],
      "metadata": {
        "id": "PZ25vzyCEkH9"
      },
      "execution_count": null,
      "outputs": []
    }
  ]
}
